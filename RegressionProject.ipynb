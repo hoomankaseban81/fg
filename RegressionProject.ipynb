{
 "cells": [
  {
   "cell_type": "markdown",
   "id": "16b7268a",
   "metadata": {},
   "source": [
    "# salamوارد کردن کتابخانه ها"
   ]
  },
  {
   "cell_type": "code",
   "execution_count": 1,
   "id": "55805dba",
   "metadata": {},
   "outputs": [],
   "source": [
    "import numpy as np\n",
    "import pandas as pd\n",
    "import matplotlib.pyplot as mpl\n",
    "import pylab as pl\n",
    "from sklearn.metrics import r2_score\n",
    "from sklearn import linear_model\n",
    "%matplotlib inline"
   ]
  },
  {
   "cell_type": "markdown",
   "id": "aba247ff",
   "metadata": {},
   "source": [
    "# خواندن دیتا و چاپ پنج خط آخر"
   ]
  },
  {
   "cell_type": "code",
   "execution_count": 2,
   "id": "d3359f09",
   "metadata": {},
   "outputs": [
    {
     "data": {
      "text/html": [
       "<div>\n",
       "<style scoped>\n",
       "    .dataframe tbody tr th:only-of-type {\n",
       "        vertical-align: middle;\n",
       "    }\n",
       "\n",
       "    .dataframe tbody tr th {\n",
       "        vertical-align: top;\n",
       "    }\n",
       "\n",
       "    .dataframe thead th {\n",
       "        text-align: right;\n",
       "    }\n",
       "</style>\n",
       "<table border=\"1\" class=\"dataframe\">\n",
       "  <thead>\n",
       "    <tr style=\"text-align: right;\">\n",
       "      <th></th>\n",
       "      <th>Area</th>\n",
       "      <th>Room</th>\n",
       "      <th>Parking</th>\n",
       "      <th>Warehouse</th>\n",
       "      <th>Elevator</th>\n",
       "      <th>Address</th>\n",
       "      <th>Price</th>\n",
       "      <th>Price(USD)</th>\n",
       "    </tr>\n",
       "  </thead>\n",
       "  <tbody>\n",
       "    <tr>\n",
       "      <th>3474</th>\n",
       "      <td>86</td>\n",
       "      <td>2</td>\n",
       "      <td>True</td>\n",
       "      <td>True</td>\n",
       "      <td>True</td>\n",
       "      <td>Southern Janatabad</td>\n",
       "      <td>3.500000e+09</td>\n",
       "      <td>116666.67</td>\n",
       "    </tr>\n",
       "    <tr>\n",
       "      <th>3475</th>\n",
       "      <td>83</td>\n",
       "      <td>2</td>\n",
       "      <td>True</td>\n",
       "      <td>True</td>\n",
       "      <td>True</td>\n",
       "      <td>Niavaran</td>\n",
       "      <td>6.800000e+09</td>\n",
       "      <td>226666.67</td>\n",
       "    </tr>\n",
       "    <tr>\n",
       "      <th>3476</th>\n",
       "      <td>75</td>\n",
       "      <td>2</td>\n",
       "      <td>False</td>\n",
       "      <td>False</td>\n",
       "      <td>False</td>\n",
       "      <td>Parand</td>\n",
       "      <td>3.650000e+08</td>\n",
       "      <td>12166.67</td>\n",
       "    </tr>\n",
       "    <tr>\n",
       "      <th>3477</th>\n",
       "      <td>105</td>\n",
       "      <td>2</td>\n",
       "      <td>True</td>\n",
       "      <td>True</td>\n",
       "      <td>True</td>\n",
       "      <td>Dorous</td>\n",
       "      <td>5.600000e+09</td>\n",
       "      <td>186666.67</td>\n",
       "    </tr>\n",
       "    <tr>\n",
       "      <th>3478</th>\n",
       "      <td>82</td>\n",
       "      <td>2</td>\n",
       "      <td>False</td>\n",
       "      <td>True</td>\n",
       "      <td>True</td>\n",
       "      <td>Parand</td>\n",
       "      <td>3.600000e+08</td>\n",
       "      <td>12000.00</td>\n",
       "    </tr>\n",
       "  </tbody>\n",
       "</table>\n",
       "</div>"
      ],
      "text/plain": [
       "     Area  Room  Parking  Warehouse  Elevator             Address  \\\n",
       "3474   86     2     True       True      True  Southern Janatabad   \n",
       "3475   83     2     True       True      True            Niavaran   \n",
       "3476   75     2    False      False     False              Parand   \n",
       "3477  105     2     True       True      True              Dorous   \n",
       "3478   82     2    False       True      True              Parand   \n",
       "\n",
       "             Price  Price(USD)  \n",
       "3474  3.500000e+09   116666.67  \n",
       "3475  6.800000e+09   226666.67  \n",
       "3476  3.650000e+08    12166.67  \n",
       "3477  5.600000e+09   186666.67  \n",
       "3478  3.600000e+08    12000.00  "
      ]
     },
     "execution_count": 2,
     "metadata": {},
     "output_type": "execute_result"
    }
   ],
   "source": [
    "alldt=pd.read_csv('house.csv')\n",
    "alldt.tail()"
   ]
  },
  {
   "cell_type": "markdown",
   "id": "3d4f2b61",
   "metadata": {},
   "source": [
    "#  NAN حذف ردیف هایی که ایتم وارد نشده دارند یا همان "
   ]
  },
  {
   "cell_type": "code",
   "execution_count": 3,
   "id": "9a327e2e",
   "metadata": {},
   "outputs": [],
   "source": [
    "alldt.dropna(inplace=True)"
   ]
  },
  {
   "cell_type": "markdown",
   "id": "4b95b8b9",
   "metadata": {},
   "source": [
    "# آیتم 'مساحت' که به فرمت رشته می باشد را در اینجا به اینتجر تبدیل میکنیم "
   ]
  },
  {
   "cell_type": "code",
   "execution_count": 4,
   "id": "ec500dc2",
   "metadata": {
    "scrolled": true
   },
   "outputs": [
    {
     "data": {
      "text/plain": [
       "str"
      ]
     },
     "execution_count": 4,
     "metadata": {},
     "output_type": "execute_result"
    }
   ],
   "source": [
    "before= type(alldt.Area[0])\n",
    "before"
   ]
  },
  {
   "cell_type": "code",
   "execution_count": 5,
   "id": "bb2746fe",
   "metadata": {},
   "outputs": [
    {
     "data": {
      "text/plain": [
       "numpy.int64"
      ]
     },
     "execution_count": 5,
     "metadata": {},
     "output_type": "execute_result"
    }
   ],
   "source": [
    "alldt['Area'] = alldt['Area'].str.replace(',', '')\n",
    "alldt.Area=alldt.Area.astype('int64')\n",
    "after = type(alldt.Area[0])\n",
    "after"
   ]
  },
  {
   "cell_type": "markdown",
   "id": "bc0804ae",
   "metadata": {},
   "source": [
    "# پاکسازی داده های پرت در قسمت مساحت!"
   ]
  },
  {
   "cell_type": "markdown",
   "id": "4f88f18d",
   "metadata": {},
   "source": [
    "### از نظر ما داده ای پرت است که مساحت آن بیش از 400 متر باشد! "
   ]
  },
  {
   "cell_type": "code",
   "execution_count": 6,
   "id": "09b18959",
   "metadata": {},
   "outputs": [
    {
     "name": "stdout",
     "output_type": "stream",
     "text": [
      "16160000000\n",
      "30\n",
      "8802191.396122685\n"
     ]
    }
   ],
   "source": [
    "print(np.max(alldt.Area))\n",
    "print(np.min(alldt.Area))\n",
    "#فقط برای چک کردن \n",
    "#اینطور که معلومه داده های پرت بزرگ داریم فقط\n",
    "#برای اثباتش هم میشه از میانگین استفاده کرد\n",
    "print(np.mean(alldt.Area))"
   ]
  },
  {
   "cell_type": "code",
   "execution_count": 7,
   "id": "722e6848",
   "metadata": {},
   "outputs": [],
   "source": [
    "part_index=alldt.query('Area>400').index.tolist()\n",
    "#پیدا کردن ایندکس داده های پرت"
   ]
  },
  {
   "cell_type": "code",
   "execution_count": 8,
   "id": "fc14cdaa",
   "metadata": {},
   "outputs": [],
   "source": [
    "alldt=alldt.drop(part_index)\n",
    "#حذف ردیف هایی که مساحت آنها پرت است"
   ]
  },
  {
   "cell_type": "code",
   "execution_count": 9,
   "id": "760ca19e",
   "metadata": {},
   "outputs": [
    {
     "data": {
      "text/plain": [
       "102.59315589353612"
      ]
     },
     "execution_count": 9,
     "metadata": {},
     "output_type": "execute_result"
    }
   ],
   "source": [
    "np.mean(alldt.Area)\n",
    "#کاملا مشخص است که داده های پرت پاکسازی شده\n",
    "#با بدست آوردن و ماکس و مین هم میشه فهمید"
   ]
  },
  {
   "cell_type": "markdown",
   "id": "6244b6ed",
   "metadata": {},
   "source": [
    "# پاکسازی داده های پرت اتاق"
   ]
  },
  {
   "cell_type": "code",
   "execution_count": 10,
   "id": "961f4f25",
   "metadata": {},
   "outputs": [
    {
     "name": "stdout",
     "output_type": "stream",
     "text": [
      "0\n",
      "5\n"
     ]
    }
   ],
   "source": [
    "print(np.min(alldt.Room))\n",
    "print(np.max(alldt.Room))\n",
    "#مشخص شد که تنها داده پرت ما در قسمت اتاق داده هایی است که اتاقشان صفر است"
   ]
  },
  {
   "cell_type": "code",
   "execution_count": 11,
   "id": "c4730fd4",
   "metadata": {},
   "outputs": [],
   "source": [
    "part_index_room=alldt.query('Room==0').index.tolist()\n",
    "alldt=alldt.drop(part_index_room)"
   ]
  },
  {
   "cell_type": "code",
   "execution_count": 12,
   "id": "5800f764",
   "metadata": {},
   "outputs": [
    {
     "data": {
      "text/plain": [
       "1"
      ]
     },
     "execution_count": 12,
     "metadata": {},
     "output_type": "execute_result"
    }
   ],
   "source": [
    "np.min(alldt.Room)"
   ]
  },
  {
   "cell_type": "markdown",
   "id": "13474604",
   "metadata": {},
   "source": [
    "# عددی کردن آدرس با لیبل انکودر "
   ]
  },
  {
   "cell_type": "code",
   "execution_count": 13,
   "id": "075d5f24",
   "metadata": {},
   "outputs": [],
   "source": [
    "from sklearn import preprocessing \n",
    "label=preprocessing.LabelEncoder()"
   ]
  },
  {
   "cell_type": "code",
   "execution_count": 14,
   "id": "5d40ac8c",
   "metadata": {},
   "outputs": [],
   "source": [
    "alldt['Address']=label.fit_transform(alldt['Address'])"
   ]
  },
  {
   "cell_type": "code",
   "execution_count": 15,
   "id": "edb0eeed",
   "metadata": {},
   "outputs": [
    {
     "name": "stdout",
     "output_type": "stream",
     "text": [
      "[154 115 150 148 104  12 180  98 133 185  69 118 152  97 176  11 161 139\n",
      " 187  51 178 145  59 126   1 109  49 113 120 123  13 111 125  25  39 112\n",
      " 140  20 155 106  34 162 132 181   3  91  38 136  26  22  72  86 156  50\n",
      "  79  74 122 108  18  21 117  23  67  44  60 144 116  28  55  75  58  66\n",
      "  63  35  30 130 186 124 103 174 121   9  42  41  61  87 110 164   0  83\n",
      "  65 114  85  89 160  76 158  77 105  40  84   5 159  82  17 188  10  36\n",
      "  43  95 129  73 143 182  94  99 170  27  48  47 153   6 168 100 184 107\n",
      " 177  62 102  54 165  19 146  14  88 172  90 147  33 175 167  31  46  16\n",
      " 135 134 149 179   4 138 119  45  70 127  53  57  92 163   2  37  68 166\n",
      "  78 131 128  56 169  96  15 141 151 137  80  64  29  81  24  93 157 171\n",
      "  32   8   7  52 173 142 101  71 183]\n"
     ]
    }
   ],
   "source": [
    "print(alldt['Address'].unique())"
   ]
  },
  {
   "cell_type": "code",
   "execution_count": 16,
   "id": "e48802a4",
   "metadata": {},
   "outputs": [
    {
     "data": {
      "text/html": [
       "<div>\n",
       "<style scoped>\n",
       "    .dataframe tbody tr th:only-of-type {\n",
       "        vertical-align: middle;\n",
       "    }\n",
       "\n",
       "    .dataframe tbody tr th {\n",
       "        vertical-align: top;\n",
       "    }\n",
       "\n",
       "    .dataframe thead th {\n",
       "        text-align: right;\n",
       "    }\n",
       "</style>\n",
       "<table border=\"1\" class=\"dataframe\">\n",
       "  <thead>\n",
       "    <tr style=\"text-align: right;\">\n",
       "      <th></th>\n",
       "      <th>Area</th>\n",
       "      <th>Room</th>\n",
       "      <th>Parking</th>\n",
       "      <th>Warehouse</th>\n",
       "      <th>Elevator</th>\n",
       "      <th>Address</th>\n",
       "      <th>Price</th>\n",
       "      <th>Price(USD)</th>\n",
       "    </tr>\n",
       "  </thead>\n",
       "  <tbody>\n",
       "    <tr>\n",
       "      <th>0</th>\n",
       "      <td>63</td>\n",
       "      <td>1</td>\n",
       "      <td>True</td>\n",
       "      <td>True</td>\n",
       "      <td>True</td>\n",
       "      <td>154</td>\n",
       "      <td>1.850000e+09</td>\n",
       "      <td>61666.67</td>\n",
       "    </tr>\n",
       "    <tr>\n",
       "      <th>1</th>\n",
       "      <td>60</td>\n",
       "      <td>1</td>\n",
       "      <td>True</td>\n",
       "      <td>True</td>\n",
       "      <td>True</td>\n",
       "      <td>154</td>\n",
       "      <td>1.850000e+09</td>\n",
       "      <td>61666.67</td>\n",
       "    </tr>\n",
       "    <tr>\n",
       "      <th>2</th>\n",
       "      <td>79</td>\n",
       "      <td>2</td>\n",
       "      <td>True</td>\n",
       "      <td>True</td>\n",
       "      <td>True</td>\n",
       "      <td>115</td>\n",
       "      <td>5.500000e+08</td>\n",
       "      <td>18333.33</td>\n",
       "    </tr>\n",
       "    <tr>\n",
       "      <th>3</th>\n",
       "      <td>95</td>\n",
       "      <td>2</td>\n",
       "      <td>True</td>\n",
       "      <td>True</td>\n",
       "      <td>True</td>\n",
       "      <td>150</td>\n",
       "      <td>9.025000e+08</td>\n",
       "      <td>30083.33</td>\n",
       "    </tr>\n",
       "    <tr>\n",
       "      <th>4</th>\n",
       "      <td>123</td>\n",
       "      <td>2</td>\n",
       "      <td>True</td>\n",
       "      <td>True</td>\n",
       "      <td>True</td>\n",
       "      <td>148</td>\n",
       "      <td>7.000000e+09</td>\n",
       "      <td>233333.33</td>\n",
       "    </tr>\n",
       "  </tbody>\n",
       "</table>\n",
       "</div>"
      ],
      "text/plain": [
       "   Area  Room  Parking  Warehouse  Elevator  Address         Price  Price(USD)\n",
       "0    63     1     True       True      True      154  1.850000e+09    61666.67\n",
       "1    60     1     True       True      True      154  1.850000e+09    61666.67\n",
       "2    79     2     True       True      True      115  5.500000e+08    18333.33\n",
       "3    95     2     True       True      True      150  9.025000e+08    30083.33\n",
       "4   123     2     True       True      True      148  7.000000e+09   233333.33"
      ]
     },
     "execution_count": 16,
     "metadata": {},
     "output_type": "execute_result"
    }
   ],
   "source": [
    "alldt.head()"
   ]
  },
  {
   "cell_type": "markdown",
   "id": "fa5c2e42",
   "metadata": {},
   "source": [
    "# ماشین لرنینگ"
   ]
  },
  {
   "cell_type": "markdown",
   "id": "0d58e20e",
   "metadata": {},
   "source": [
    "# \n",
    "# \n",
    "# پلات کشی و چک کردن موارد"
   ]
  },
  {
   "cell_type": "code",
   "execution_count": 17,
   "id": "949236fb",
   "metadata": {},
   "outputs": [],
   "source": [
    "mask=np.random.rand(len(alldt))<.8\n",
    "train=alldt[mask]\n",
    "test=alldt[~mask]"
   ]
  },
  {
   "cell_type": "code",
   "execution_count": 18,
   "id": "ba338ea2",
   "metadata": {},
   "outputs": [
    {
     "data": {
      "image/png": "[encoded data removed]",
      "text/plain": [
       "<Figure size 432x288 with 1 Axes>"
      ]
     },
     "metadata": {
      "needs_background": "light"
     },
     "output_type": "display_data"
    }
   ],
   "source": [
    "mpl.scatter(train.Address,train.Price)\n",
    "mpl.xlabel('Address')\n",
    "mpl.ylabel('Price')\n",
    "mpl.show()"
   ]
  },
  {
   "cell_type": "code",
   "execution_count": 19,
   "id": "c1701774",
   "metadata": {},
   "outputs": [
    {
     "data": {
      "image/png": "[encoded data removed]",
      "text/plain": [
       "<Figure size 432x288 with 1 Axes>"
      ]
     },
     "metadata": {
      "needs_background": "light"
     },
     "output_type": "display_data"
    }
   ],
   "source": [
    "mpl.scatter(train.Area,train.Price)\n",
    "mpl.xlabel('Area')\n",
    "mpl.ylabel('Price')\n",
    "mpl.show()"
   ]
  },
  {
   "cell_type": "code",
   "execution_count": 20,
   "id": "f9aa83b6",
   "metadata": {},
   "outputs": [
    {
     "data": {
      "image/png": "[encoded data removed]",
      "text/plain": [
       "<Figure size 432x288 with 1 Axes>"
      ]
     },
     "metadata": {
      "needs_background": "light"
     },
     "output_type": "display_data"
    }
   ],
   "source": [
    "fig=mpl.figure()\n",
    "add=fig.add_subplot(111)\n",
    "add.scatter(train.Area,train.Price,color='blue')\n",
    "add.scatter(train.Address,train.Price,color='red')\n",
    "mpl.show()"
   ]
  },
  {
   "cell_type": "markdown",
   "id": "3fd319f0",
   "metadata": {},
   "source": [
    "# با چک کردن های متعدد خارج از این کد متوجه شدم ترکیب 3 تایی آدرس و مساحت و انباری\n",
    "# بهترین نتیجه ممکن را می دهد"
   ]
  },
  {
   "cell_type": "code",
   "execution_count": 21,
   "id": "4bc20e4d",
   "metadata": {},
   "outputs": [
    {
     "name": "stdout",
     "output_type": "stream",
     "text": [
      "415335.3958658774 109775091.90547688 618683446.0282167\n",
      "-6771590869.100596\n"
     ]
    }
   ],
   "source": [
    "reg=linear_model.LinearRegression()\n",
    "x=np.asanyarray(train[['Address','Area','Warehouse']])\n",
    "y=np.asanyarray(train[['Price']])\n",
    "reg.fit(x,y)\n",
    "shib1=reg.coef_[0,0]\n",
    "shib2=reg.coef_[0,1]\n",
    "shib3=reg.coef_[0,2]\n",
    "intercept=reg.intercept_[0]\n",
    "print(shib1,shib2,shib3)\n",
    "print(intercept)"
   ]
  },
  {
   "cell_type": "code",
   "execution_count": 22,
   "id": "dd086ff5",
   "metadata": {},
   "outputs": [
    {
     "name": "stdout",
     "output_type": "stream",
     "text": [
      "0.6776224307954796\n"
     ]
    }
   ],
   "source": [
    "x=np.asanyarray(test[['Address','Area','Warehouse']])\n",
    "y=np.asanyarray(test[['Price']])\n",
    "y_predict=reg.predict(x)\n",
    "R2=r2_score(y,y_predict)\n",
    "print(R2)"
   ]
  },
  {
   "cell_type": "code",
   "execution_count": null,
   "id": "ea08e40e",
   "metadata": {},
   "outputs": [],
   "source": []
  }
 ],
 "metadata": {
  "kernelspec": {
   "display_name": "Python 3 (ipykernel)",
   "language": "python",
   "name": "python3"
  },
  "language_info": {
   "codemirror_mode": {
    "name": "ipython",
    "version": 3
   },
   "file_extension": ".py",
   "mimetype": "text/x-python",
   "name": "python",
   "nbconvert_exporter": "python",
   "pygments_lexer": "ipython3",
   "version": "3.9.12"
  }
 },
 "nbformat": 4,
 "nbformat_minor": 5
}
